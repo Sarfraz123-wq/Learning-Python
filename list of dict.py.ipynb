{
 "cells": [
  {
   "cell_type": "code",
   "execution_count": 13,
   "id": "d7e57e95",
   "metadata": {},
   "outputs": [
    {
     "name": "stdout",
     "output_type": "stream",
     "text": [
      "His name is Sarfraz His age is 21 He is studying in 8th semester\n"
     ]
    }
   ],
   "source": [
    "students = [\n",
    "    {\n",
    "        \"name\": \"Sarfraz\",\n",
    "        \"age\": 21,\n",
    "        \"semester\": '8th'\n",
    "    },\n",
    "    {\n",
    "        \"name\": \"Tahir\",\n",
    "        \"age\": 22,\n",
    "        \"semester\": '8th'\n",
    "    },\n",
    "    {\n",
    "        \"name\": \"Safiullah\",\n",
    "        \"age\": 19,\n",
    "        \"semester\": '2nd'\n",
    "    },\n",
    "];\n",
    "# How to access values\n",
    "for i in students:\n",
    "#     print(i)\n",
    "    if(students[0]['name'] == 'Sarfraz'):\n",
    "        print(\"His name is \"+ students[0]['name'] + \" His age is \" + str(students[0]['age']) + \" He is studying in \" + students[0]['semester'] + \" semester\")\n",
    "        break;"
   ]
  },
  {
   "cell_type": "code",
   "execution_count": 14,
   "id": "fcbd6e4a",
   "metadata": {},
   "outputs": [
    {
     "name": "stdout",
     "output_type": "stream",
     "text": [
      "3\n"
     ]
    }
   ],
   "source": [
    "# calculating the length of list of dict\n",
    "\n",
    "print(len(students))"
   ]
  },
  {
   "cell_type": "code",
   "execution_count": 38,
   "id": "2544e589",
   "metadata": {},
   "outputs": [
    {
     "name": "stdout",
     "output_type": "stream",
     "text": [
      "{'customer id': 101, 'first name': 'abc', 'last name': 'xyz', 'address': 'new_address'}\n"
     ]
    }
   ],
   "source": [
    "   #append new items in list of dict\n",
    "new_dictionary = {\n",
    "     \"customer id\": 101,\n",
    "     \"first name\": \"abc\",\n",
    "     \"last name\": \"xyz\",\n",
    "     \"address\": \"new_address\",\n",
    "    }\n",
    "students.append(new_dictionary)\n",
    "# print(students[3])\n",
    "\n",
    "# del students[3]\n",
    "print(students[3])\n"
   ]
  },
  {
   "cell_type": "code",
   "execution_count": null,
   "id": "5f30a6d0",
   "metadata": {},
   "outputs": [],
   "source": []
  }
 ],
 "metadata": {
  "kernelspec": {
   "display_name": "Python 3",
   "language": "python",
   "name": "python3"
  },
  "language_info": {
   "codemirror_mode": {
    "name": "ipython",
    "version": 3
   },
   "file_extension": ".py",
   "mimetype": "text/x-python",
   "name": "python",
   "nbconvert_exporter": "python",
   "pygments_lexer": "ipython3",
   "version": "3.8.8"
  }
 },
 "nbformat": 4,
 "nbformat_minor": 5
}
