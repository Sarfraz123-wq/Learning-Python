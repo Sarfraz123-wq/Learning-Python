{
 "cells": [
  {
   "cell_type": "code",
   "execution_count": 33,
   "id": "41771661",
   "metadata": {},
   "outputs": [
    {
     "name": "stdout",
     "output_type": "stream",
     "text": [
      "He is a c# developer\n"
     ]
    }
   ],
   "source": [
    "dict = {            \n",
    "        \"name\": \"Sarfraz\",\n",
    "        \"age\": 21,\n",
    "        \"skills\": [\"HTML\",\"CSS\",\"C#\",\"JQUERY\",\"PYTHON\"]       \n",
    "    }\n",
    "for i in dict[\"skills\"]:\n",
    "    if(i == 'JS'):\n",
    "        print(\"He is a JS Developer\")\n",
    "        break;\n",
    "    else:\n",
    "        print(\"He is a c# developer\")\n",
    "        break;"
   ]
  },
  {
   "cell_type": "code",
   "execution_count": null,
   "id": "5bfc82ba",
   "metadata": {},
   "outputs": [],
   "source": []
  },
  {
   "cell_type": "code",
   "execution_count": null,
   "id": "09f63190",
   "metadata": {},
   "outputs": [],
   "source": []
  }
 ],
 "metadata": {
  "kernelspec": {
   "display_name": "Python 3",
   "language": "python",
   "name": "python3"
  },
  "language_info": {
   "codemirror_mode": {
    "name": "ipython",
    "version": 3
   },
   "file_extension": ".py",
   "mimetype": "text/x-python",
   "name": "python",
   "nbconvert_exporter": "python",
   "pygments_lexer": "ipython3",
   "version": "3.8.8"
  }
 },
 "nbformat": 4,
 "nbformat_minor": 5
}
