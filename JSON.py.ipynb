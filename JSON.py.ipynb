{
 "cells": [
  {
   "cell_type": "code",
   "execution_count": 22,
   "id": "9f53c030",
   "metadata": {},
   "outputs": [
    {
     "name": "stdout",
     "output_type": "stream",
     "text": [
      "21\n",
      "{\"name\": \"sarfraz\", \"age\": 21}\n",
      "{\"name\": \"John\", \"age\": 30}\n",
      "[\"apple\", \"bananas\"]\n",
      "[\"apple\", \"bananas\"]\n",
      "\"hello\"\n",
      "42\n",
      "31.76\n",
      "true\n",
      "false\n",
      "null\n"
     ]
    }
   ],
   "source": [
    "# Python has a built-in package called json, which can be used to work with JSON data.\n",
    "\n",
    "import json\n",
    "# print(json)\n",
    "\n",
    "# Convert from JSON to Python\n",
    "# use loads()\n",
    "# json data\n",
    "jsonData = '{\"name\":\"Sarfraz\",\"age\":\"21\"}'\n",
    "#print(jsonData['age']) # TypeError: string indices must be integers\n",
    "pythonData = json.loads(jsonData);\n",
    "print(pythonData['age'])\n",
    "\n",
    "\n",
    "#Convert from Python to JSON\n",
    "# If you have a Python object, you can convert it into a JSON string by using the json.dumps() method.\n",
    "\n",
    "obj = {\n",
    "    \"name\" : 'sarfraz',\n",
    "    \"age\": 21\n",
    "}\n",
    "# print(obj['name'])\n",
    "jsonNow = json.dumps(obj)\n",
    "print(jsonNow)\n",
    "# print(jsonNow['name']) # TypeError: string indices must be integers\n",
    "\n",
    "import json\n",
    "\n",
    "print(json.dumps({\"name\": \"John\", \"age\": 30}))\n",
    "print(json.dumps([\"apple\", \"bananas\"]))\n",
    "print(json.dumps((\"apple\", \"bananas\")))\n",
    "print(json.dumps(\"hello\"))\n",
    "print(json.dumps(42))\n",
    "print(json.dumps(31.76))\n",
    "print(json.dumps(True))\n",
    "print(json.dumps(False))\n",
    "print(json.dumps(None))"
   ]
  },
  {
   "cell_type": "code",
   "execution_count": null,
   "id": "4b35e28d",
   "metadata": {},
   "outputs": [],
   "source": []
  }
 ],
 "metadata": {
  "kernelspec": {
   "display_name": "Python 3",
   "language": "python",
   "name": "python3"
  },
  "language_info": {
   "codemirror_mode": {
    "name": "ipython",
    "version": 3
   },
   "file_extension": ".py",
   "mimetype": "text/x-python",
   "name": "python",
   "nbconvert_exporter": "python",
   "pygments_lexer": "ipython3",
   "version": "3.8.8"
  }
 },
 "nbformat": 4,
 "nbformat_minor": 5
}
