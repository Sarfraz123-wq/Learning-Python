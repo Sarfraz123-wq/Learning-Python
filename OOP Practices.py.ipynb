{
 "cells": [
  {
   "cell_type": "code",
   "execution_count": 48,
   "id": "7634d002",
   "metadata": {},
   "outputs": [
    {
     "data": {
      "text/plain": [
       "'The seating capacity of a Bus is 50 passengers'"
      ]
     },
     "execution_count": 48,
     "metadata": {},
     "output_type": "execute_result"
    }
   ],
   "source": [
    "#Create a Vehicle class with max_speed and mileage instance attributes\n",
    "\n",
    "# class Vehicle:\n",
    "#     def __init__(self,max_speed,mileage):\n",
    "#         self.max_speed = max_speed\n",
    "#         self.mileage = mileage\n",
    "        \n",
    "# v1 = Vehicle(\"120\",1000)    \n",
    "# print(v1.max_speed,v1.mileage)\n",
    "\n",
    "#OOP Exercise 2: Create a Vehicle class without any variables and methods\n",
    "# class Vehicle:\n",
    "#     pass\n",
    "\n",
    "# v = Vehicle()\n",
    "\n",
    "# OOP Exercise 3: Create a child class Bus that will inherit all of the variables and methods of the Vehicle class\n",
    "\n",
    "# class Vehicle:\n",
    "\n",
    "#     def __init__(self, name, max_speed, mileage):\n",
    "#         self.name = name\n",
    "#         self.max_speed = max_speed\n",
    "#         self.mileage = mileage\n",
    "#     def vehicle(self):\n",
    "#         return \"Vehicle Name: \" + self.name + \" Speed: \" + self.max_speed + \" Mileage: \" + self.mileage\n",
    "# # v = Vehicle(\"School Volvo\",\"180\",\"12\")\n",
    "# # v.vehicle()\n",
    "# class Bus(Vehicle):\n",
    "#     pass\n",
    "# b = Bus(\"School Volvo\",\"180\",\"12\")\n",
    "# b.vehicle()\n",
    "\n",
    "\n",
    "# OOP Exercise 4: Class Inheritance\n",
    "#Create a Bus class that inherits from the Vehicle class. Give the capacity argument of Bus.seating_capacity() a default value of 50.\n",
    "#Use the following code for your parent Vehicle class. You need to use method overriding.\n",
    "class Vehicle:\n",
    "    def __init__(self, name, max_speed, mileage):\n",
    "        self.name = name\n",
    "        self.max_speed = max_speed\n",
    "        self.mileage = mileage\n",
    "\n",
    "    def seating_capacity(self, capacity):\n",
    "        return f\"The seating capacity of a {self.name} is {capacity} passengers\"\n",
    "    \n",
    "class Bus(Vehicle):    \n",
    "    def seating_capacity(self, capacity=50):\n",
    "        return super().seating_capacity(50)\n",
    "\n",
    "b = Bus(\"Bus\",\"120\",\"1000\")\n",
    "b.seating_capacity()"
   ]
  },
  {
   "cell_type": "code",
   "execution_count": null,
   "id": "6976639d",
   "metadata": {},
   "outputs": [],
   "source": []
  },
  {
   "cell_type": "code",
   "execution_count": null,
   "id": "90673d08",
   "metadata": {},
   "outputs": [],
   "source": []
  }
 ],
 "metadata": {
  "kernelspec": {
   "display_name": "Python 3",
   "language": "python",
   "name": "python3"
  },
  "language_info": {
   "codemirror_mode": {
    "name": "ipython",
    "version": 3
   },
   "file_extension": ".py",
   "mimetype": "text/x-python",
   "name": "python",
   "nbconvert_exporter": "python",
   "pygments_lexer": "ipython3",
   "version": "3.8.8"
  }
 },
 "nbformat": 4,
 "nbformat_minor": 5
}
