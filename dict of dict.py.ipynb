{
 "cells": [
  {
   "cell_type": "code",
   "execution_count": 16,
   "id": "31981d55",
   "metadata": {},
   "outputs": [
    {
     "name": "stdout",
     "output_type": "stream",
     "text": [
      "{'customer id': 0, 'first name': 'John', 'last name': 'Ogden', 'address': '301 Arbor Rd.'}\n"
     ]
    }
   ],
   "source": [
    "# customers = [\n",
    "#  {\n",
    "#  \"customer id\": 0,\n",
    "#  \"first name\":\"John\",\n",
    "#  \"last name\": \"Ogden\",\n",
    "#  \"address\": \"301 Arbor Rd.\",\n",
    "#  },\n",
    "#  {\n",
    "#  \"customer id\": 1,\n",
    "#  \"first name\":\"Ann\",\n",
    "#  \"last name\": \"Sattermyer\",\n",
    "#  \"address\": \"PO Box 1145\",\n",
    "#  },\n",
    "#  {\n",
    "#  \"customer id\": 2,\n",
    "#  \"first name\":\"Jill\",\n",
    "#  \"last name\": \"Somers\",\n",
    "#  \"address\": \"3 Main St.\",\n",
    "#  }\n",
    "#  ]\n",
    "# print(customers[0][\"address\"])\n",
    "# This is list of dict\n",
    "\n",
    "# But i have to create dict of dict\n",
    "# replacing starting and ending [] with {}\n",
    "\n",
    "# customers = {\n",
    "#  {\n",
    "#  \"customer id\": 0,\n",
    "#  \"first name\":\"John\",\n",
    "#  \"last name\": \"Ogden\",\n",
    "#  \"address\": \"301 Arbor Rd.\",\n",
    "#  },\n",
    "#  {\n",
    "#  \"customer id\": 1,\n",
    "#  \"first name\":\"Ann\",\n",
    "#  \"last name\": \"Sattermyer\",\n",
    "#  \"address\": \"PO Box 1145\",\n",
    "#  },\n",
    "#  {\n",
    "#  \"customer id\": 2,\n",
    "#  \"first name\":\"Jill\",\n",
    "#  \"last name\": \"Somers\",\n",
    "#  \"address\": \"3 Main St.\",\n",
    "#  }\n",
    "# }\n",
    "# print(customers) # unhashable type: 'dict'\n",
    "# to fix this problem\n",
    "\n",
    "customers = {\n",
    " \"John\": {\n",
    " \"customer id\": 0,\n",
    " \"first name\":\"John\",\n",
    " \"last name\": \"Ogden\",\n",
    " \"address\": \"301 Arbor Rd.\",\n",
    " }, \n",
    " \"Ann\": {\n",
    " \"customer id\": 1,\n",
    " \"first name\":\"Ann\",\n",
    " \"last name\": \"Sattermyer\",\n",
    " \"address\": \"PO Box 1145\",\n",
    " },\n",
    " \"Jill\": {\n",
    " \"customer id\": 2,\n",
    " \"first name\":\"Jill\",\n",
    " \"last name\": \"Somers\",\n",
    " \"address\": \"3 Main St.\",\n",
    " }\n",
    "}\n",
    "\n",
    "# print(customers) # works\n",
    "# print(customers[0]) Not Working. \n",
    "print(customers[\"John\"]) #works"
   ]
  },
  {
   "cell_type": "code",
   "execution_count": null,
   "id": "9854c7b8",
   "metadata": {},
   "outputs": [],
   "source": []
  }
 ],
 "metadata": {
  "kernelspec": {
   "display_name": "Python 3",
   "language": "python",
   "name": "python3"
  },
  "language_info": {
   "codemirror_mode": {
    "name": "ipython",
    "version": 3
   },
   "file_extension": ".py",
   "mimetype": "text/x-python",
   "name": "python",
   "nbconvert_exporter": "python",
   "pygments_lexer": "ipython3",
   "version": "3.8.8"
  }
 },
 "nbformat": 4,
 "nbformat_minor": 5
}
