{
 "cells": [
  {
   "cell_type": "code",
   "execution_count": 30,
   "id": "bde6983d",
   "metadata": {},
   "outputs": [
    {
     "name": "stdout",
     "output_type": "stream",
     "text": [
      "{'d', 'c', 'a', 'e', 'b'}\n",
      "set1 is  {'d', 'c', 'a', 'e', 'b'}\n",
      "after intersection_update()  {'b'}\n",
      "after intersection()  {'a'}\n",
      "{'google', 'microsoft', 'banana', 'cherry'}\n",
      "{'a', 'b'}\n"
     ]
    }
   ],
   "source": [
    "#Join Two Sets\n",
    "#You can use the union() method that returns a new set containing all items from both sets, or the update() method that inserts all the items from one set into another:\n",
    "\n",
    "\n",
    "set1 = {'a','b','c'};\n",
    "set2 = {'b','c','d','e'};\n",
    "set1.union(set2)\n",
    "# print(set1) # not merging becasue union() returns new set, assign it in new variable\n",
    "set3 = set1.union(set2)\n",
    "print(set3) #works\n",
    "\n",
    "set1.update(set2)\n",
    "print(\"set1 is \",set1) # this works\n",
    "\n",
    "#Keep ONLY the Duplicates\n",
    "\n",
    "#intersection_update()\n",
    "\n",
    "a = {'a','b','a'}\n",
    "b = {'c','b','e'}\n",
    "\n",
    "     \n",
    "a.intersection_update(b)\n",
    "print(\"after intersection_update() \" , a)\n",
    "\n",
    "# intersection(), it is same keep duplicates but it returns new set so assign it in new variable\n",
    "\n",
    "a1 = {'a','b','a'}\n",
    "b1 = {'c','a','e'}\n",
    "\n",
    "     \n",
    "c = a1.intersection(b1)\n",
    "print(\"after intersection() \" , c)\n",
    "\n",
    "\n",
    "# Keep All, But NOT the Duplicates\n",
    "#The symmetric_difference_update() method will keep only the elements that are NOT present in both sets.\n",
    "\n",
    "# we can use unio() because union keeps common elements as well\n",
    "x = {\"apple\", \"banana\", \"cherry\"}\n",
    "y = {\"google\", \"microsoft\", \"apple\"}\n",
    "x.symmetric_difference_update(y)\n",
    "print(x)\n",
    "\n",
    "#symmetric_difference() same it returns new set. Assign new set in new variable \n",
    "\n",
    "#Set copy()\n",
    "\n",
    "one = {'a','b'}\n",
    "two = one.copy()\n",
    "print(two)\n",
    "\n"
   ]
  },
  {
   "cell_type": "code",
   "execution_count": null,
   "id": "b8ff6fda",
   "metadata": {},
   "outputs": [],
   "source": []
  },
  {
   "cell_type": "code",
   "execution_count": null,
   "id": "7d67c123",
   "metadata": {},
   "outputs": [],
   "source": []
  },
  {
   "cell_type": "code",
   "execution_count": null,
   "id": "7d751a8e",
   "metadata": {},
   "outputs": [],
   "source": []
  },
  {
   "cell_type": "code",
   "execution_count": null,
   "id": "ed8e4c0e",
   "metadata": {},
   "outputs": [],
   "source": []
  }
 ],
 "metadata": {
  "kernelspec": {
   "display_name": "Python 3",
   "language": "python",
   "name": "python3"
  },
  "language_info": {
   "codemirror_mode": {
    "name": "ipython",
    "version": 3
   },
   "file_extension": ".py",
   "mimetype": "text/x-python",
   "name": "python",
   "nbconvert_exporter": "python",
   "pygments_lexer": "ipython3",
   "version": "3.8.8"
  }
 },
 "nbformat": 4,
 "nbformat_minor": 5
}
