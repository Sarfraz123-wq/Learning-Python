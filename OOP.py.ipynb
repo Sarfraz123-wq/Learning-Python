{
 "cells": [
  {
   "cell_type": "code",
   "execution_count": 1,
   "id": "fccecefe",
   "metadata": {},
   "outputs": [
    {
     "name": "stdout",
     "output_type": "stream",
     "text": [
      "Welcome to OOP in Python\n"
     ]
    }
   ],
   "source": [
    "print(\"Welcome to OOP in Python\")\n"
   ]
  },
  {
   "cell_type": "code",
   "execution_count": 73,
   "id": "c3a5faf8",
   "metadata": {},
   "outputs": [
    {
     "name": "stdout",
     "output_type": "stream",
     "text": [
      "data A called here\n",
      "B Now\n",
      "data A called here\n",
      "data B called here\n",
      "C Now\n",
      "data A called here\n",
      "data B called here\n",
      "data C called here\n"
     ]
    }
   ],
   "source": [
    "# class computer:\n",
    "#     def __init__(self,cpu,ram):\n",
    "#         print(\"in init\")   \n",
    "#         self.cpu = cpu\n",
    "#         self.ram = ram       \n",
    "#     def getValues(self):\n",
    "#         return self.cpu,self.ram\n",
    "# com1 = computer(\"i5\",\"16gb\")\n",
    "# print(com1.getValues())\n",
    "# com2 = computer(\"i7\",\"8gb\")\n",
    "# print(com2.getValues())\n",
    "# print(com1.cpu)\n",
    "# # del can be used with object and properties\n",
    "# # del com2\n",
    "# # print(com2.getValues())\n",
    "# # del com1.cpu\n",
    "# # print(com1.cpu)\n",
    "\n",
    "# INHERTITANCE\n",
    "class A:\n",
    "#     def __init__(self,fname,lname,age):\n",
    "#         self.fname = fname\n",
    "#         self.lname = lname\n",
    "#         self.age = age\n",
    "#     def fullName(self):\n",
    "#         return \"Full Name : \" + self.fname + \" \" + self.lname\n",
    "#     def getAge(self):\n",
    "#         return \"Age : \" + str(self.age)\n",
    "    def dataA(self):\n",
    "#         return self.fullName(),self.getAge()\n",
    "        print(\"data A called here\")\n",
    "# a = A(\"Sarfraz\",\"Rasheed\",21)\n",
    "# a.data()\n",
    "class B(A):\n",
    "#     def __init__(self,city,country):\n",
    "#         self.city = city\n",
    "#         self.country = country\n",
    "#     def city(self):\n",
    "#         return self.city\n",
    "    def dataB(self):\n",
    "#         return self.country\n",
    "        print(\"data B called here\")\n",
    "a = A()\n",
    "a.dataA()\n",
    "print(\"B Now\")\n",
    "b = B()\n",
    "b.dataA()\n",
    "b.dataB()\n",
    "\n",
    "\n",
    "class C(B):\n",
    "    def dataC(self):\n",
    "        print(\"data C called here\")\n",
    "        \n",
    "        \n",
    "print(\"C Now\")\n",
    "c = C()\n",
    "c.dataA()\n",
    "c.dataB()        \n",
    "c.dataC()        "
   ]
  },
  {
   "cell_type": "code",
   "execution_count": null,
   "id": "de9a84f1",
   "metadata": {},
   "outputs": [],
   "source": []
  },
  {
   "cell_type": "code",
   "execution_count": null,
   "id": "eff1d294",
   "metadata": {},
   "outputs": [],
   "source": []
  }
 ],
 "metadata": {
  "kernelspec": {
   "display_name": "Python 3",
   "language": "python",
   "name": "python3"
  },
  "language_info": {
   "codemirror_mode": {
    "name": "ipython",
    "version": 3
   },
   "file_extension": ".py",
   "mimetype": "text/x-python",
   "name": "python",
   "nbconvert_exporter": "python",
   "pygments_lexer": "ipython3",
   "version": "3.8.8"
  }
 },
 "nbformat": 4,
 "nbformat_minor": 5
}
