{
 "cells": [
  {
   "cell_type": "code",
   "execution_count": 28,
   "id": "33cacbf3",
   "metadata": {},
   "outputs": [
    {
     "name": "stdout",
     "output_type": "stream",
     "text": [
      "{'banana', 'apple', 'cherry'}\n",
      "{'banana', 'apple', 'cherry'}\n",
      "banana\n",
      "apple\n",
      "cherry\n",
      "{'orange', 'banana', 'apple', 'cherry'}\n",
      "{'e', 'f', 'b', 'd', 'c', 'a'}\n",
      "After removing e  {'f', 'b', 'd', 'c', 'a'}\n",
      "After removing g  {'f', 'b', 'd', 'c', 'a'}\n",
      "{'b', 'd', 'c', 'a'}\n",
      "set()\n"
     ]
    },
    {
     "ename": "NameError",
     "evalue": "name 'set2' is not defined",
     "output_type": "error",
     "traceback": [
      "\u001b[1;31m---------------------------------------------------------------------------\u001b[0m",
      "\u001b[1;31mNameError\u001b[0m                                 Traceback (most recent call last)",
      "\u001b[1;32m<ipython-input-28-ce50a08441f9>\u001b[0m in \u001b[0;36m<module>\u001b[1;34m\u001b[0m\n\u001b[0;32m     69\u001b[0m \u001b[1;33m\u001b[0m\u001b[0m\n\u001b[0;32m     70\u001b[0m \u001b[1;32mdel\u001b[0m \u001b[0mset2\u001b[0m \u001b[1;31m# prints\u001b[0m\u001b[1;33m\u001b[0m\u001b[1;33m\u001b[0m\u001b[0m\n\u001b[1;32m---> 71\u001b[1;33m \u001b[0mprint\u001b[0m\u001b[1;33m(\u001b[0m\u001b[0mset2\u001b[0m\u001b[1;33m)\u001b[0m \u001b[1;31m#set2 is not defined.\u001b[0m\u001b[1;33m\u001b[0m\u001b[1;33m\u001b[0m\u001b[0m\n\u001b[0m",
      "\u001b[1;31mNameError\u001b[0m: name 'set2' is not defined"
     ]
    }
   ],
   "source": [
    "#Syntax\n",
    "#  myset = {\"apple\", \"banana\", \"cherry\"} \n",
    "\n",
    "#A set is a collection which is both unordered and unindexed.\n",
    "#Sets are written with curly brackets.\n",
    "#Set items are unordered, unchangeable, and do not allow duplicate values.\n",
    "#Unordered means that the items in a set do not have a defined order.\n",
    "#Set items can appear in a different order every time you use them, and cannot be referred to by index or key.\n",
    "#Sets are unchangeable, meaning that we cannot change the items after the set has been created.\n",
    "#Duplicates Not Allowed\n",
    "\n",
    "thisset = {\"apple\", \"banana\", \"cherry\", \"apple\"}\n",
    "\n",
    "print(thisset) #duplicates not allowed\n",
    "\n",
    "#A set can contain different data types:\n",
    "\n",
    "# set1 = {\"abc\", 34, True, 40, \"male\"} \n",
    "\n",
    "# The set() Constructor\n",
    "thisset = set((\"apple\", \"banana\", \"cherry\")) # note the double round-brackets\n",
    "print(thisset) \n",
    "\n",
    "# Access Set items (same as in lists,tuples)\n",
    "for i in thisset:\n",
    "    print(i)\n",
    "\n",
    "#Add Items\n",
    "#To add one item to a set use the add() method.\n",
    "\n",
    "thisset = {\"apple\", \"banana\", \"cherry\"}\n",
    "\n",
    "thisset.add(\"orange\")\n",
    "\n",
    "print(thisset) \n",
    "\n",
    "# Add Sets or merge sets to each other\n",
    "# use update()\n",
    "\n",
    "set1 = {'a','b','c'};\n",
    "set2 = {'d','e','f'};\n",
    "set1.update(set2)\n",
    "print(set1)\n",
    "\n",
    "#Remove Item\n",
    "#To remove an item in a set, use the remove(), or the discard() method.\n",
    "\n",
    "set1.remove(\"e\")\n",
    "# print(\"After removing e \" + set1) # TypeError: can only concatenate str (not \"set\") to str\n",
    "print(\"After removing e \" , set1)\n",
    "\n",
    "set1.discard(\"g\") #here g is not an element, still discard() not raising an error while remove was raising\n",
    "print(\"After removing g \" , set1)  \n",
    "\n",
    "# pop()\n",
    "#if we wanna remove last index then we can use pop()\n",
    "# You can also use the pop() method to remove an item, but this method will remove the last item. Remember that sets are unordered, so you will not know what item that gets removed.\n",
    "set1.pop()\n",
    "print(set1)\n",
    "\n",
    "#clear()\n",
    "\n",
    "#The clear() method empties the set:\n",
    "\n",
    "set1.clear()\n",
    "print(set1);\n",
    "\n",
    "#The del keyword will delete the set completely:\n",
    "\n",
    "del set2 # prints\n",
    "print(set2) #set2 is not defined.\n"
   ]
  },
  {
   "cell_type": "code",
   "execution_count": null,
   "id": "8d842e6c",
   "metadata": {},
   "outputs": [],
   "source": []
  },
  {
   "cell_type": "code",
   "execution_count": null,
   "id": "3f25d07f",
   "metadata": {},
   "outputs": [],
   "source": []
  },
  {
   "cell_type": "code",
   "execution_count": null,
   "id": "3677d531",
   "metadata": {},
   "outputs": [],
   "source": []
  },
  {
   "cell_type": "code",
   "execution_count": null,
   "id": "bae83d33",
   "metadata": {},
   "outputs": [],
   "source": []
  },
  {
   "cell_type": "code",
   "execution_count": null,
   "id": "d303e9d5",
   "metadata": {},
   "outputs": [],
   "source": []
  }
 ],
 "metadata": {
  "kernelspec": {
   "display_name": "Python 3",
   "language": "python",
   "name": "python3"
  },
  "language_info": {
   "codemirror_mode": {
    "name": "ipython",
    "version": 3
   },
   "file_extension": ".py",
   "mimetype": "text/x-python",
   "name": "python",
   "nbconvert_exporter": "python",
   "pygments_lexer": "ipython3",
   "version": "3.8.8"
  }
 },
 "nbformat": 4,
 "nbformat_minor": 5
}
